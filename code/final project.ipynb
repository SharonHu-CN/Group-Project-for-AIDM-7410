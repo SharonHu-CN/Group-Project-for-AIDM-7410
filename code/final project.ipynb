{
 "cells": [
  {
   "cell_type": "markdown",
   "id": "1dd02837",
   "metadata": {},
   "source": [
    "## 有瓦遮頭？-Nowhere to shelter——The evolution of street sleeper under public measure and frontline their plight"
   ]
  },
  {
   "cell_type": "markdown",
   "id": "2d95722f",
   "metadata": {},
   "source": [
    "#### Group Member: Yang Xuzhen, Hu Xuanyu, Fu Lanying, Liang Tong"
   ]
  },
  {
   "cell_type": "markdown",
   "id": "c68c5146",
   "metadata": {},
   "source": [
    "### Background"
   ]
  },
  {
   "cell_type": "markdown",
   "id": "7da65beb",
   "metadata": {},
   "source": [
    "To this day, covering their heads with tiles is still a luxury for some people.\n",
    "Official statistics show that the number of street sleepers in Hong Kong doubled from 787 in 2014 to 1,562 in 2021. Since the government’s official data is based on voluntary registration of street sleepers, this also means that the size of this group is larger than we thought.\n",
    "The issue of street sleepers has been discussed and concern since the establishment of the Hong Kong government in 1841. Every year, the government promotes a social survey of the real situation of street sleepers, establishes relevant assistance departments and measures, and introduces a series of policies for caring for street sleepers... However, in the past 70 years, Hong Kong has developed into a world-class city and Asia's financial center, the situation of such groups has not been fundamentally improved. Instead, it has become more and more difficult."
   ]
  },
  {
   "cell_type": "markdown",
   "id": "b3113fe6",
   "metadata": {},
   "source": [
    "### Data processing"
   ]
  },
  {
   "cell_type": "markdown",
   "id": "835d2df1",
   "metadata": {},
   "source": [
    "#### Data source and Data preparation"
   ]
  },
  {
   "cell_type": "markdown",
   "id": "a6711740",
   "metadata": {},
   "source": [
    "All of our data were obtained from the Legislative Council Documents for the years 1997 to 2021. \n",
    "By retrieving the keyword “street sleepers”, we filtered out some documents that were not relevant to our topic, and then converted the original PDF files into TXT files by copying and pasting the original text. The TXT files are sorted by year and organized in a Q&A format, which finally transformed into 19 TXT files (since there are some years don't mention “street sleepers”)."
   ]
  },
  {
   "cell_type": "markdown",
   "id": "b4f74ac5",
   "metadata": {},
   "source": [
    "#### Text mining"
   ]
  },
  {
   "cell_type": "markdown",
   "id": "5b0b2474",
   "metadata": {},
   "source": [
    "Text mining\n",
    "We created two text files named “dict” and “停用词表”. The “dict” file contain our custom words, such as the names of the MPs, idioms, etc. The “停用词表” file contain words or phrases that need to be automatically filtered out during subsequent text processing, such as “可以”, “我们”, etc. We used jieba package in Python for Chinese text mining. First, a TXT file for one year was opened, the list of stopwords was filtered out and text segmentation was performed (considering the user-defined dictionary), then keyword extraction and TF-IDF analysis were carried out. We set the value of the number of keywords to 50, conducted TF-IDF calculation on them, and finally generated annual CSV files for subsequent data analysis.The processing is shown below."
   ]
  },
  {
   "cell_type": "code",
   "execution_count": 1,
   "id": "b2c84274",
   "metadata": {},
   "outputs": [],
   "source": [
    "import jieba\n",
    "import jieba.posseg as pseg\n",
    "import re\n",
    "import pandas as pd"
   ]
  },
  {
   "cell_type": "code",
   "execution_count": 2,
   "id": "e5f61272",
   "metadata": {},
   "outputs": [
    {
     "name": "stderr",
     "output_type": "stream",
     "text": [
      "Building prefix dict from the default dictionary ...\n",
      "Loading model from cache /var/folders/zz/xsytv_xx4xs7xpry9986vw2w0000gn/T/jieba.cache\n",
      "Loading model cost 0.449 seconds.\n",
      "Prefix dict has been built successfully.\n"
     ]
    }
   ],
   "source": [
    "jieba.load_userdict('dict.txt') \n",
    "stopwords = open('../data/停用词表.txt', 'r', encoding = 'utf8').readlines()\n",
    "stopwords = [w.strip() for w in stopwords]"
   ]
  },
  {
   "cell_type": "code",
   "execution_count": 3,
   "id": "c804d4a0",
   "metadata": {},
   "outputs": [],
   "source": [
    "# For word segmentation\n",
    "tr = []\n",
    "\n",
    "fr = open('../data/2002.txt','r',encoding='utf-8')\n",
    "for w in fr.readlines():\n",
    "    w = w.strip()      \n",
    "    w = \"\".join(w.split())\n",
    "    if not len(w):                    \n",
    "        continue\n",
    "        \n",
    "    outstr = ''                          \n",
    "    \n",
    "    w = re.sub(r'[A-Za-z0-9]|/d+','',str(w)) \n",
    "    \n",
    "    seg_list = jieba.lcut(w, cut_all=False)   \n",
    "    for word in seg_list:\n",
    "        if word not in stopwords:            \n",
    "            if word != '\\t':                 \n",
    "                outstr += word\n",
    "                outstr += \" \"\n",
    "            \n",
    "    tr.append(outstr.strip().split(\" \"))    "
   ]
  },
  {
   "cell_type": "code",
   "execution_count": 4,
   "id": "b4ac34be",
   "metadata": {},
   "outputs": [],
   "source": [
    "# Write the results\n",
    "with open('2002.txt','w',encoding = 'utf-8') as file:\n",
    "    file.write(str(tr))"
   ]
  },
  {
   "cell_type": "code",
   "execution_count": 5,
   "id": "9667a0b8",
   "metadata": {},
   "outputs": [],
   "source": [
    "# Use jieba to do TF-IDF analysis\n",
    "from jieba import analyse\n",
    "tfidf = analyse.extract_tags"
   ]
  },
  {
   "cell_type": "code",
   "execution_count": 6,
   "id": "4bde38d9",
   "metadata": {},
   "outputs": [
    {
     "name": "stdout",
     "output_type": "stream",
     "text": [
      "[('服務', 0.42629403498713175), ('計劃', 0.35215594194589145), ('協助', 0.22241427912372091), ('接觸', 0.22241427912372091), ('機構', 0.18534523260310076), ('提供', 0.17429419240632557), ('問題', 0.1668107093427907), ('人數', 0.1482761860824806), ('非政府', 0.13804666697776746), ('精神病', 0.1380382229179845), ('情況', 0.12974166282217053), ('就業', 0.12974166282217053), ('社署', 0.12974166282217053), ('社工', 0.12930862932093024), ('願意', 0.11120713956186046), ('資料', 0.11120713956186046), ('宿舍', 0.10906295217069768), ('患有', 0.10496246006883722), ('入住', 0.09811791741592248), ('社會', 0.09267261630155038), ('幫助', 0.09267261630155038), ('轉介', 0.09267261630155038), ('局長', 0.09267261630155038), ('主體', 0.09267261630155038), ('答覆', 0.09267261630155038), ('推行', 0.08462858416632559), ('政府', 0.07792554770886823), ('進行', 0.0741380930412403), ('評估', 0.0741380930412403), ('選擇', 0.0741380930412403), ('經濟', 0.0741380930412403), ('外展', 0.0741380930412403), ('考慮', 0.0741380930412403), ('繼續', 0.0741380930412403), ('登記', 0.0741380930412403), ('訓練', 0.0741380930412403), ('精神科', 0.06863543756837209), ('援助', 0.06767707240902325), ('月入', 0.06511305593984495), ('原因', 0.06141807035906977), ('接受', 0.05669740571328682), ('調查', 0.05560356978093023), ('失業', 0.05560356978093023), ('解決', 0.05560356978093023), ('撥款', 0.05560356978093023), ('會否', 0.05560356978093023), ('資源', 0.05560356978093023), ('綜合', 0.05560356978093023), ('受過', 0.05560356978093023), ('單位', 0.05560356978093023)]\n"
     ]
    }
   ],
   "source": [
    "with open('2002.txt','r',encoding='utf-8') as file:\n",
    "    texts = file.readlines()\n",
    "keywords = jieba.analyse.extract_tags(str(texts), topK=50, withWeight=True, allowPOS=('nr','ns','nt','nz','n','vn','v'))\n",
    "print(keywords)\n",
    "file.close()"
   ]
  },
  {
   "cell_type": "code",
   "execution_count": 7,
   "id": "0629001c",
   "metadata": {},
   "outputs": [],
   "source": [
    "df = pd.DataFrame(keywords)\n",
    "output = df.to_csv('../output/topic_output.csv')Data processing results"
   ]
  },
  {
   "cell_type": "markdown",
   "id": "12e320c4",
   "metadata": {},
   "source": [
    "Data processing results\n",
    "Based on these CSV files (i.e. the results of TF-IDF), through eye-checking, we summarized the topic words and the main issues discussed in each year. Depending on the context of the era, the issues discussed for street sleepers varied and are accompanied by some specific words. Therefore, according to the text analysis results, we will elaborate our thinking and discovering in the following three dimensions."
   ]
  },
  {
   "cell_type": "markdown",
   "id": "4d5535c2",
   "metadata": {},
   "source": [
    "After text mining of the minutes and agenda of meetings of the Legislative Council of the Hong Kong Special Administrative Region from 1997 to 2021, it is concluded that the government conducted some public policy discussions during 1997 to 2021. This section will analyze the public policies and answer the research questions raised before.\n",
    "From the themes in text mining, it can be seen that the three-year action plan was frequently mentioned in the legislative Council agenda and meetings during 2001-2002, which was also the period when the plan was formally proposed and implemented. Project R has been mentioned since 2015. In the 2014 Policy Address, the Chief Executive of Hong Kong announced the implementation of the pilot project in Sham Shui Po and Yuen Long "
   ]
  },
  {
   "cell_type": "code",
   "execution_count": 1,
   "id": "d1cc85f5",
   "metadata": {},
   "outputs": [],
   "source": [
    "import jieba\n",
    "import jieba.posseg as pseg\n",
    "import re"
   ]
  },
  {
   "cell_type": "code",
   "execution_count": 2,
   "id": "9e60f77c",
   "metadata": {},
   "outputs": [
    {
     "name": "stderr",
     "output_type": "stream",
     "text": [
      "Building prefix dict from the default dictionary ...\n",
      "Loading model from cache C:\\Users\\YANGXU~1\\AppData\\Local\\Temp\\jieba.cache\n",
      "Loading model cost 0.669 seconds.\n",
      "Prefix dict has been built successfully.\n"
     ]
    }
   ],
   "source": [
    "jieba.load_userdict('dict.txt') ##自定义词库\n",
    "stopwords = open('../data/停用词表.txt', 'r', encoding = 'utf-8').readlines()\n",
    "stopwords = [w.strip() for w in stopwords]"
   ]
  },
  {
   "cell_type": "code",
   "execution_count": 3,
   "id": "9c153b52",
   "metadata": {},
   "outputs": [],
   "source": [
    "# For word segmentation\n",
    "\n",
    "tr = []\n",
    "\n",
    "fr = open('../data/three_year_policy.txt','r',encoding='utf-8') #The custom dictionary\n",
    "for w in fr.readlines():\n",
    "    w = w.strip()      \n",
    "    w = \"\".join(w.split())\n",
    "    if not len(w):                    \n",
    "        continue\n",
    "        \n",
    "    outstr = ''                        \n",
    "    \n",
    "    w = re.sub(r'[A-Za-z0-9]|/d+','',str(w)) \n",
    "    \n",
    "    seg_list = jieba.lcut(w, cut_all=False)   \n",
    "    for word in seg_list:\n",
    "        if word not in stopwords:            \n",
    "            if word != '\\t':                 \n",
    "                outstr += word\n",
    "                outstr += \" \"\n",
    "            \n",
    "    tr.append(outstr.strip().split(\" \"))    "
   ]
  },
  {
   "cell_type": "code",
   "execution_count": 4,
   "id": "a077c27e",
   "metadata": {},
   "outputs": [],
   "source": [
    "# Write the results\n",
    "with open('three_year_policy_cleaned.txt','w',encoding = 'utf-8') as file:\n",
    "    file.write(str(tr))"
   ]
  },
  {
   "cell_type": "code",
   "execution_count": 6,
   "id": "6dbec527",
   "metadata": {},
   "outputs": [],
   "source": [
    "# Use jieba to do TF-IDF analysis\n",
    "from jieba import analyse\n",
    "tfidf = analyse.extract_tags"
   ]
  },
  {
   "cell_type": "code",
   "execution_count": 7,
   "id": "07c90236",
   "metadata": {
    "scrolled": true
   },
   "outputs": [
    {
     "name": "stdout",
     "output_type": "stream",
     "text": [
      "[('服務', 0.8648129682948935), ('露宿', 0.6621904549404255), ('社署', 0.42392792563475173), ('綜合', 0.28827098943163115), ('計劃', 0.25435675538085106), ('機構', 0.20348540430468082), ('援助', 0.17543241110282268), ('收容', 0.15016188207455317), ('非政府', 0.12629801446902128), ('提供', 0.1262396765921702), ('協助', 0.11869981917773048), ('撥款', 0.11869981917773048), ('慈善', 0.10547646360817022), ('資助', 0.10174270215234041), ('協會', 0.10174270215234041), ('宿舍', 0.09978099879446808), ('入住', 0.08976745635924824), ('社會', 0.08478558512695035), ('有關', 0.08478558512695035), ('輔導', 0.08478558512695035)]\n"
     ]
    }
   ],
   "source": [
    "with open('three_year_policy_cleaned.txt','r',encoding='utf-8') as file:\n",
    "    texts = file.readlines()\n",
    "keywords = jieba.analyse.extract_tags(str(texts), topK=20,withWeight=True, allowPOS=('nr','ns','nt','nz','n','vn','v'))\n",
    "print(keywords)\n",
    "file.close()"
   ]
  },
  {
   "cell_type": "code",
   "execution_count": 8,
   "id": "053f204c",
   "metadata": {
    "scrolled": true
   },
   "outputs": [
    {
     "data": {
      "text/html": [
       "<div>\n",
       "<style scoped>\n",
       "    .dataframe tbody tr th:only-of-type {\n",
       "        vertical-align: middle;\n",
       "    }\n",
       "\n",
       "    .dataframe tbody tr th {\n",
       "        vertical-align: top;\n",
       "    }\n",
       "\n",
       "    .dataframe thead th {\n",
       "        text-align: right;\n",
       "    }\n",
       "</style>\n",
       "<table border=\"1\" class=\"dataframe\">\n",
       "  <thead>\n",
       "    <tr style=\"text-align: right;\">\n",
       "      <th></th>\n",
       "      <th>0</th>\n",
       "      <th>1</th>\n",
       "    </tr>\n",
       "  </thead>\n",
       "  <tbody>\n",
       "    <tr>\n",
       "      <th>0</th>\n",
       "      <td>服務</td>\n",
       "      <td>0.864813</td>\n",
       "    </tr>\n",
       "    <tr>\n",
       "      <th>1</th>\n",
       "      <td>露宿</td>\n",
       "      <td>0.662190</td>\n",
       "    </tr>\n",
       "    <tr>\n",
       "      <th>2</th>\n",
       "      <td>社署</td>\n",
       "      <td>0.423928</td>\n",
       "    </tr>\n",
       "    <tr>\n",
       "      <th>3</th>\n",
       "      <td>綜合</td>\n",
       "      <td>0.288271</td>\n",
       "    </tr>\n",
       "    <tr>\n",
       "      <th>4</th>\n",
       "      <td>計劃</td>\n",
       "      <td>0.254357</td>\n",
       "    </tr>\n",
       "    <tr>\n",
       "      <th>5</th>\n",
       "      <td>機構</td>\n",
       "      <td>0.203485</td>\n",
       "    </tr>\n",
       "    <tr>\n",
       "      <th>6</th>\n",
       "      <td>援助</td>\n",
       "      <td>0.175432</td>\n",
       "    </tr>\n",
       "    <tr>\n",
       "      <th>7</th>\n",
       "      <td>收容</td>\n",
       "      <td>0.150162</td>\n",
       "    </tr>\n",
       "    <tr>\n",
       "      <th>8</th>\n",
       "      <td>非政府</td>\n",
       "      <td>0.126298</td>\n",
       "    </tr>\n",
       "    <tr>\n",
       "      <th>9</th>\n",
       "      <td>提供</td>\n",
       "      <td>0.126240</td>\n",
       "    </tr>\n",
       "    <tr>\n",
       "      <th>10</th>\n",
       "      <td>協助</td>\n",
       "      <td>0.118700</td>\n",
       "    </tr>\n",
       "    <tr>\n",
       "      <th>11</th>\n",
       "      <td>撥款</td>\n",
       "      <td>0.118700</td>\n",
       "    </tr>\n",
       "    <tr>\n",
       "      <th>12</th>\n",
       "      <td>慈善</td>\n",
       "      <td>0.105476</td>\n",
       "    </tr>\n",
       "    <tr>\n",
       "      <th>13</th>\n",
       "      <td>資助</td>\n",
       "      <td>0.101743</td>\n",
       "    </tr>\n",
       "    <tr>\n",
       "      <th>14</th>\n",
       "      <td>協會</td>\n",
       "      <td>0.101743</td>\n",
       "    </tr>\n",
       "    <tr>\n",
       "      <th>15</th>\n",
       "      <td>宿舍</td>\n",
       "      <td>0.099781</td>\n",
       "    </tr>\n",
       "    <tr>\n",
       "      <th>16</th>\n",
       "      <td>入住</td>\n",
       "      <td>0.089767</td>\n",
       "    </tr>\n",
       "    <tr>\n",
       "      <th>17</th>\n",
       "      <td>社會</td>\n",
       "      <td>0.084786</td>\n",
       "    </tr>\n",
       "    <tr>\n",
       "      <th>18</th>\n",
       "      <td>有關</td>\n",
       "      <td>0.084786</td>\n",
       "    </tr>\n",
       "    <tr>\n",
       "      <th>19</th>\n",
       "      <td>輔導</td>\n",
       "      <td>0.084786</td>\n",
       "    </tr>\n",
       "  </tbody>\n",
       "</table>\n",
       "</div>"
      ],
      "text/plain": [
       "      0         1\n",
       "0    服務  0.864813\n",
       "1    露宿  0.662190\n",
       "2    社署  0.423928\n",
       "3    綜合  0.288271\n",
       "4    計劃  0.254357\n",
       "5    機構  0.203485\n",
       "6    援助  0.175432\n",
       "7    收容  0.150162\n",
       "8   非政府  0.126298\n",
       "9    提供  0.126240\n",
       "10   協助  0.118700\n",
       "11   撥款  0.118700\n",
       "12   慈善  0.105476\n",
       "13   資助  0.101743\n",
       "14   協會  0.101743\n",
       "15   宿舍  0.099781\n",
       "16   入住  0.089767\n",
       "17   社會  0.084786\n",
       "18   有關  0.084786\n",
       "19   輔導  0.084786"
      ]
     },
     "execution_count": 8,
     "metadata": {},
     "output_type": "execute_result"
    }
   ],
   "source": [
    "import pandas as pd\n",
    "keywords\n",
    "df = pd.DataFrame(list(keywords))\n",
    "df\n",
    "# df.transpose()\n",
    "# df.to_csv('three_year_policy.csv')"
   ]
  },
  {
   "cell_type": "code",
   "execution_count": 9,
   "id": "d46fcef6",
   "metadata": {},
   "outputs": [
    {
     "data": {
      "text/plain": [
       "19     輔導\n",
       "18     有關\n",
       "17     社會\n",
       "16     入住\n",
       "15     宿舍\n",
       "14     協會\n",
       "13     資助\n",
       "12     慈善\n",
       "11     撥款\n",
       "10     協助\n",
       "9      提供\n",
       "8     非政府\n",
       "7      收容\n",
       "6      援助\n",
       "5      機構\n",
       "4      計劃\n",
       "3      綜合\n",
       "2      社署\n",
       "1      露宿\n",
       "0      服務\n",
       "Name: 0, dtype: object"
      ]
     },
     "execution_count": 9,
     "metadata": {},
     "output_type": "execute_result"
    }
   ],
   "source": [
    "df.iloc[::-1, 0]"
   ]
  },
  {
   "cell_type": "code",
   "execution_count": 10,
   "id": "c069eb7c",
   "metadata": {},
   "outputs": [],
   "source": [
    "import matplotlib.pyplot as plt"
   ]
  },
  {
   "cell_type": "code",
   "execution_count": 26,
   "id": "776203dc",
   "metadata": {
    "scrolled": true
   },
   "outputs": [
    {
     "data": {
      "image/png": "[encoded data removed]",
      "text/plain": [
       "<Figure size 900x600 with 1 Axes>"
      ]
     },
     "metadata": {
      "needs_background": "light"
     },
     "output_type": "display_data"
    }
   ],
   "source": [
    "plt.figure(figsize=(9,6),dpi=100)\n",
    "plt.barh(df.iloc[::-1, 0], df.iloc[::-1 , 1],color='r')\n",
    "plt.rcParams['font.sans-serif']=['Microsoft YaHei','SimHei']\n",
    "\n",
    "plt.xlabel('TF_IDF')\n",
    "plt.ylabel('Keywords')\n",
    "plt.title('Term frequency inverse document frequency - Three Year Action Plan')\n",
    "\n",
    "from matplotlib.pyplot import MultipleLocator\n",
    "\n",
    "x_major_locator=MultipleLocator(0.1)\n",
    "\n",
    "ax=plt.gca()\n",
    "\n",
    "ax.xaxis.set_major_locator(x_major_locator)\n",
    "\n",
    "plt.xlim(0,0.6)\n",
    "plt.gca().invert_xaxis()#for data viz"
   ]
  },
  {
   "cell_type": "code",
   "execution_count": null,
   "id": "59f76abd",
   "metadata": {},
   "outputs": [],
   "source": [
    "##world clound"
   ]
  },
  {
   "cell_type": "code",
   "execution_count": 1,
   "id": "2187d767",
   "metadata": {},
   "outputs": [
    {
     "name": "stderr",
     "output_type": "stream",
     "text": [
      "Building prefix dict from the default dictionary ...\n",
      "Loading model from cache C:\\Users\\YANGXU~1\\AppData\\Local\\Temp\\jieba.cache\n",
      "Loading model cost 0.641 seconds.\n",
      "Prefix dict has been built successfully.\n"
     ]
    },
    {
     "data": {
      "text/plain": [
       "<wordcloud.wordcloud.WordCloud at 0x1fde42a8940>"
      ]
     },
     "execution_count": 1,
     "metadata": {},
     "output_type": "execute_result"
    }
   ],
   "source": [
    "# import\n",
    "import jieba\n",
    "import wordcloud\n",
    "\n",
    "\n",
    "import imageio\n",
    "mk = imageio.imread(\"香港.png\")\n",
    "# print(type(mk))\n",
    "\n",
    "\n",
    "w = wordcloud.WordCloud(width=1000,\n",
    "                        height=700,\n",
    "                        background_color='white',\n",
    "                        font_path='msyh.ttc',\n",
    "                        mask=mk,\n",
    "                        scale=15,\n",
    "                        colormap='gray',\n",
    "                        stopwords={'為','露宿'})\n",
    "\n",
    "\n",
    "f = open('守望計劃_cleaned.txt',encoding='utf-8')\n",
    "txt = f.read()\n",
    "txtlist = jieba.lcut(txt)\n",
    "string = \" \".join(txtlist)\n",
    "\n",
    "\n",
    "w.generate(string)\n",
    "\n",
    "# output the word cloud\n",
    "w.to_file('output_R1.png')\n"
   ]
  },
  {
   "cell_type": "markdown",
   "id": "56e59d41",
   "metadata": {},
   "source": [
    "Three-year action plan refers to many keywords including Street Sleepers Integrated Service Team, social welfare department (SWD), Grants, dormitories, counseling and etc. Project R refer to many regional plans especially for Sham Shui Po District, and keywords including Buildings, business owners, social workers."
   ]
  },
  {
   "cell_type": "markdown",
   "id": "3b7bfbd3",
   "metadata": {},
   "source": [
    "#### 冇瓦遮頭——The Frontline of public measures"
   ]
  },
  {
   "cell_type": "markdown",
   "id": "3476e3ee",
   "metadata": {},
   "source": [
    "Text mining of the minutes of legislative Council meetings from 1997 to 2021 found that among the discussions on street sleepers, related topics such as the government washing streets to evict them, blockading stadiums, erecting barriers and moving sleeping centres were mentioned 10 times. And it mainly took place between 2010 and 2017. 2012 was the year with the most mentions of such actions. Since 2012, councilor have used 'confrontational actions' to describe government agencies' treatment of rough sleepers at questions in the Legislative Council in the years since. According to the TF-IDF of these related texts, cleaning up the finances, evicting street sleepers and closing gym are the top 3 unfriendly actions taken by the government."
   ]
  },
  {
   "cell_type": "markdown",
   "id": "4082906a",
   "metadata": {},
   "source": [
    "Another frequent issue is accommodation. We conducted a topic modeling of all references to street sleepers in legislative Council minutes since 1997 and found that housing was one of the most frequently mentioned issues about street sleepers.\n",
    "The government has mentioned 有瓦遮頭since 1997. In this 24 years Hong Kong government has indeed mentioned many policies about an outlier provide beds: according to the arrangement of the director-general of the Labour office in 2017, has 630 to provide homeless people as a transit point for around six months of temporary accommodation. However, as the councilor said that only 80 per cent of government-provided accommodation is occupied because the fluctuation beds were kept many elderly people out"
   ]
  },
  {
   "cell_type": "markdown",
   "id": "e8f161f1",
   "metadata": {},
   "source": [
    "The attack of the cold is also a long-term problem mentioned in more than 20 years. Under the existing mechanism, temporary shelter centers are only allowed to open when tropical cyclone Warning No. 8 or above, landslip warning, red/black rainstorm warning, cold/very hot weather warning is in force or when a major fire is in force. But those street sleepers face the cold due to a lack of protective gear. The cases of septuagenarians and Vietnamese sailors who froze to death in the street were mentioned in the legislative Council in 2012 and 2017 respectively.\n",
    "It seems to imply that on the one hand, the government has put forward many measures, but on another hand, the street sleepers are also subjected to some unfriendly treatments from the government."
   ]
  },
  {
   "cell_type": "markdown",
   "id": "e61a6d35",
   "metadata": {},
   "source": [
    "#### 瓦喺边度?——The plight of the homeless"
   ]
  },
  {
   "cell_type": "markdown",
   "id": "a67334ef",
   "metadata": {},
   "source": [
    "According to the Hong Kong government's response records, the size of homeless reached an inflection point in 2007. Between 1998 and 2007, the number of homeless people continued to fall from 1,026 to 327. However, after that, the quantity of street sleepers keeps increasing from 374 in 2008 to 1,500 in 2020 . Based on a NGO's study in 2021, the latest number of homeless has risen to 1,532, reaching a twenty-three year high."
   ]
  },
  {
   "cell_type": "markdown",
   "id": "6416d4b1",
   "metadata": {},
   "source": [
    "In late 2019, riot police officers conducted a crime reduction sweep in Tong Zhou Street Park, removing homeless people from the park and clearing away their belongings without prior notice. After that, 14 of the homeless involved filed claims for small amounts of money. As of this year, only 9 people continue to seek compensation due to the death or imprisonment of some of the homeless. However, the government described the eviction as “clearing the area in the usual way” and rejected the claims. It is obvious that there is no legislation or policy to protect the basic rights of homeless people in Hong Kong, and they are not even protected by the fundamental right to housing. The government seems to be using this indifferent approach to tell the homeless that if you cannot even feed yourself, you don't belong here and we won't offer you a full set of help or sympathy. The outbreak of COVID-19 has exacerbated the plight of street sleepers. The government has urged people to keep social distance and stay at home during the epidemic, but most street sleepers have nowhere to go but open spaces, which increases their risk of exposure to the virus. Hong Kong media reported that some lawmakers and religious groups had suggested the government open temporary shelters to accommodate street sleepers during the epidemic, but they were rejected. A number of government departments are concerned about the risk of spreading the virus due to the gathering of people and say street sleepers are not eligible for temporary shelters."
   ]
  },
  {
   "cell_type": "markdown",
   "id": "409d4b03",
   "metadata": {},
   "source": [
    "The rising number of street sleepers reflects the ineffectiveness of the government's support projects since 2008. The evictions that have been occurring since 2012, as well as the establishment of thresholds for shelters and cold shelters, are indicative of the government's implicit pressure on the rough sleeper community. The eviction of street sleepers has not removed them from society; on the contrary, the size of homeless have grown larger. For instance, government evictions have increasingly marginalized the places where street sleepers operate, making it more difficult for service agencies to find and access street sleepers, and thus failing to provide timely help and services. To effectively deal with the issue of street sleepers, the government must stop the practice of violent evictions and develop homeless-friendly policies and address their basic needs such as housing, mental health, work and socialization."
   ]
  },
  {
   "cell_type": "markdown",
   "id": "d25e5324",
   "metadata": {},
   "source": [
    "#### Discussion and conclusion"
   ]
  },
  {
   "cell_type": "markdown",
   "id": "28b2d59f",
   "metadata": {},
   "source": [
    "The present project examined what are the topics and keywords discussed in the Hong Kong Legislative Council on the street sleeper policy each year. The empirical evidence is generated from a text-mining analysis of agenda document for the Public Legislative Council. Several findings are noteworthy.\n",
    "Homeless has been a fairly marginal social issue within Hong Kong’s urban context. This project chooses street sleepers in one of homeless categories as analyzed object. Our project via text mining from the Hong Kong Legislative Council Street Sleepers Conference from 1997 to 2021 and conduct the term frequency inverse document frequency (TF-IDF) table. From eye tracking and manually decision, we have summarized the discourse on the legislative Council's agenda about rough sleepers in three dimensions. "
   ]
  },
  {
   "cell_type": "markdown",
   "id": "98d0b503",
   "metadata": {},
   "source": [
    "From Public Policy, “Three-year action plan” refers to many keywords including Street Sleepers Integrated Service Team, social welfare department (SWD), Grants, dormitories, counseling and etc. “Project R” refer to many regional plans especially for Sham Shui Po District, and keywords including Buildings, business owners, social workers. From (三年計劃) （守望計劃）. Judging government policy solely by reducing the number of rough sleepers, it is clear from the “Three-year action plan” that “Three-year action plan” is more effective than “Project R”. So, the general and crude conclusion is that helping rough sleepers with job referrals is more useful than handing out housing allowances.\n",
    "From the Frontline of public measures, the excavation of the transcripts of discussions at the legislative Council meetings seems to show that while the Hong Kong government has put forward many measures to address the problem of street sleepers, they are also subjected to some unfriendly treatment from the government."
   ]
  },
  {
   "cell_type": "markdown",
   "id": "51f981a8",
   "metadata": {},
   "source": [
    "From the plight of street sleepers, the rising number of street sleepers reflects the ineffectiveness of the government’s support projects since 2008. The evictions that have been occurring since 2012, as well as the establishment."
   ]
  },
  {
   "cell_type": "markdown",
   "id": "4f142a28",
   "metadata": {},
   "source": [
    "From the plight of street sleepers, the rising number of street sleepers reflects the ineffectiveness of the government’s support projects since 2008. The evictions that have been occurring since 2012, as well as the establishment of thresholds for shelters and cold shelters, are indicative of the government’s implicit pressure on the rough sleeper community. The eviction of street sleepers has not removed them from society; on the contrary, the size of homeless have grown larger."
   ]
  },
  {
   "cell_type": "code",
   "execution_count": null,
   "id": "84d885e9",
   "metadata": {},
   "outputs": [],
   "source": []
  }
 ],
 "metadata": {
  "kernelspec": {
   "display_name": "Python 3",
   "language": "python",
   "name": "python3"
  },
  "language_info": {
   "codemirror_mode": {
    "name": "ipython",
    "version": 3
   },
   "file_extension": ".py",
   "mimetype": "text/x-python",
   "name": "python",
   "nbconvert_exporter": "python",
   "pygments_lexer": "ipython3",
   "version": "3.8.8"
  }
 },
 "nbformat": 4,
 "nbformat_minor": 5
}
